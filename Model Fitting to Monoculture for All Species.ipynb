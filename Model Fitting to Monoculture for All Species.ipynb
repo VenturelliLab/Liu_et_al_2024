{
 "cells": [
  {
   "cell_type": "code",
   "execution_count": 1,
   "id": "4fd48df7",
   "metadata": {},
   "outputs": [],
   "source": [
    "import numpy as np\n",
    "import math\n",
    "import pandas as pd\n",
    "import matplotlib.pyplot as plt\n",
    "import matplotlib as mpl\n",
    "import scipy as sp\n",
    "from scipy.integrate import odeint\n",
    "from scipy.integrate import solve_ivp\n",
    "from scipy.optimize import least_squares as ls\n",
    "\n",
    "%matplotlib inline\n",
    "mpl.rcParams['figure.dpi']=75\n",
    "plt.rcParams['svg.fonttype'] = 'none'\n",
    "plt.rcParams.update({'font.family':'sans-serif'})\n",
    "plt.rcParams.update({'font.sans-serif':'Arial'})"
   ]
  },
  {
   "cell_type": "code",
   "execution_count": 2,
   "id": "8004524e",
   "metadata": {},
   "outputs": [],
   "source": [
    "def monopH(t,y, *args):\n",
    "    K = args[0]\n",
    "    pref = args[1]\n",
    "    sigma = args[2]\n",
    "    delta = args[3]\n",
    "    gamma = args[4]\n",
    "    mu = args[5]\n",
    "    kdead = args[6]\n",
    "    \n",
    "    \n",
    "    dead = y[0]\n",
    "    od = y[1]\n",
    "    pH = y[2]\n",
    "    \n",
    "    \n",
    "    ddead = -kdead*max(0,dead)\n",
    "    dod = (od*(mu-od/K))*(np.exp(-(pH-pref)**2/sigma**2)-delta)+kdead*max(0,dead)\n",
    "    dpH = gamma*od\n",
    "    \n",
    "    \n",
    "    return [ddead, dod, dpH]    \n"
   ]
  },
  {
   "cell_type": "code",
   "execution_count": 4,
   "id": "b99efcf6",
   "metadata": {},
   "outputs": [],
   "source": [
    "pHdf = pd.ExcelFile('All_pH.xlsx')\n",
    "ODdf = pd.ExcelFile('All_OD.xlsx')\n",
    "\n",
    "allpH = [4,5,6,7,8,9]\n",
    "\n",
    "allspecies = ['AC','BA','BC','BL','BT','BV','CC','DF','wt','delarc','parc-','parc+']"
   ]
  },
  {
   "cell_type": "code",
   "execution_count": null,
   "id": "b4929dc6",
   "metadata": {},
   "outputs": [],
   "source": [
    "allparams = []\n",
    "allMSE = []\n",
    "for species in allspecies:\n",
    "    if species in ['AC','BA','BC','BL','BT','BV','CC','DF',]:\n",
    "        reps = 4\n",
    "    else:\n",
    "        reps = 3\n",
    "    \n",
    "    speciesDF = pd.read_excel(ODdf,species)\n",
    "    AllMin=[]\n",
    "    exp_OD=[]\n",
    "    exp_t = list(speciesDF['Time'])    \n",
    "    avg_OD=[]\n",
    "    for j in range(6):\n",
    "        Min=min(min(speciesDF[str(allpH[j])+'_1']),min(speciesDF[str(allpH[j])+'_2']),min(speciesDF[str(allpH[j])+'_3']))\n",
    "        AllMin.append(speciesDF[str(allpH[j])+'_'+str(1)][0]-Min+0.01)\n",
    "        average_OD=[(a+b+c+d)/4 for a,b,c,d in zip(np.array(speciesDF[str(allpH[j])+'_'+str(1)])-Min+0.01,np.array(speciesDF[str(allpH[j])+'_'+str(2)])-Min+0.01,np.array(speciesDF[str(allpH[j])+'_'+str(3)])-Min+0.01,np.array(speciesDF[str(allpH[j])+'_'+str(4)])-Min+0.01)]\n",
    "        avg_OD.extend(average_OD)\n",
    "        for i in range(reps):\n",
    "            exp_OD.append(np.array(speciesDF[str(allpH[j])+'_'+str(i+1)])-Min+0.01)\n",
    "    \n",
    "    pHspeciesDF = pd.read_excel(pHdf,species)\n",
    "    exp_Hplus=[]\n",
    "    exp_pH=[]\n",
    "    AllstartpH=[]\n",
    "    avg_pH=[]\n",
    "    for j in range(6):\n",
    "        AllstartpH.append(pHspeciesDF[str(allpH[j])+'_1'][0])\n",
    "        average_pH=[(a+b+c+d)/4 for a,b,c,d in zip(np.array(pHspeciesDF[str(allpH[j])+'_'+str(1)]),np.array(pHspeciesDF[str(allpH[j])+'_'+str(2)]),np.array(pHspeciesDF[str(allpH[j])+'_'+str(3)]),np.array(pHspeciesDF[str(allpH[j])+'_'+str(4)]))]\n",
    "        avg_pH.extend(average_pH)\n",
    "        for i in range(reps):\n",
    "            exp_pH.append(np.array(pHspeciesDF[str(allpH[j])+'_'+str(i+1)]))\n",
    "    \n",
    "    def residuals(params):\n",
    "        params=tuple(params)\n",
    "        res=np.zeros(6)\n",
    "        for j in range(6):\n",
    "            sim_P=solve_ivp(monopH, t_span=[0,24],y0=[AllMin[j],0,AllstartpH[j]],t_eval=[0,3,6,9,12,24],args = params)\n",
    "            sim_OD=sim_P.y[1]\n",
    "            averageOD = sum(sim_OD)/len(sim_OD)\n",
    "            sim_pH=sim_P.y[2]\n",
    "            averagepH = sum(sim_pH)/len(sim_pH)  \n",
    "            res += [((a - b))**2 for a, b in zip(sim_OD,avg_OD[j*6:j*6+6])]\n",
    "            res += [((a - b))**2 for a, b in zip(sim_pH,avg_pH[j*6:j*6+6])]\n",
    "        return res\n",
    "\n",
    "    initial_guess = (10,7,1,1,-0.01,1,10)\n",
    "    low_bounds = [0,4,0,0,-10,0,0]\n",
    "    up_bounds = [100,9,5,10,10,10,100]\n",
    "\n",
    "    result = ls(residuals, initial_guess, bounds=(low_bounds, up_bounds))\n",
    "    fitted_params = result.x\n",
    "    MSE = result.cost\n",
    "    \n",
    "    allparams.append(fitted_params)\n",
    "    allMSE.append(MSE)\n",
    "\n"
   ]
  },
  {
   "cell_type": "code",
   "execution_count": null,
   "id": "3c2fdade",
   "metadata": {},
   "outputs": [],
   "source": [
    "allparams"
   ]
  },
  {
   "cell_type": "code",
   "execution_count": null,
   "id": "e0442970",
   "metadata": {},
   "outputs": [],
   "source": [
    "allMSE"
   ]
  }
 ],
 "metadata": {
  "kernelspec": {
   "display_name": "Python 3 (ipykernel)",
   "language": "python",
   "name": "python3"
  },
  "language_info": {
   "codemirror_mode": {
    "name": "ipython",
    "version": 3
   },
   "file_extension": ".py",
   "mimetype": "text/x-python",
   "name": "python",
   "nbconvert_exporter": "python",
   "pygments_lexer": "ipython3",
   "version": "3.10.13"
  }
 },
 "nbformat": 4,
 "nbformat_minor": 5
}
